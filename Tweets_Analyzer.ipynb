{
 "cells": [
  {
   "cell_type": "code",
   "execution_count": 1,
   "metadata": {
    "colab": {},
    "colab_type": "code",
    "id": "CQa3kvnTMSPy"
   },
   "outputs": [],
   "source": [
    "import tweepy\n",
    "from textblob import TextBlob\n",
    "from wordcloud import WordCloud\n",
    "import pandas as pd\n",
    "import numpy as np\n",
    "import re\n",
    "import matplotlib.pyplot as plt\n",
    "plt.style.use('fivethirtyeight')"
   ]
  },
  {
   "cell_type": "code",
   "execution_count": 2,
   "metadata": {
    "colab": {},
    "colab_type": "code",
    "id": "sXwKD84XTIal"
   },
   "outputs": [],
   "source": [
    "consumerKey = 'TxyWW0OfU7JDHztPnkeT4NArn'\n",
    "consumerSecret  = 'LDXxiLyXxNyzfy9OW2jwQ0mNugFkWrR6rDbH4RuSigcwnUz1Zf'\n",
    "accessToken  = '459915333-L6q9tcF6ZwTqopLbsZVCISERWB8Dde7UDIseyOUg'\n",
    "\n",
    "accessTokenSecret  = 'DIIKKtys3rC4GTEQgtbYUc3U90SAp16B77NVs7jmMOPCj'"
   ]
  },
  {
   "cell_type": "code",
   "execution_count": 3,
   "metadata": {
    "colab": {},
    "colab_type": "code",
    "id": "jS0UwQE2Mh2F"
   },
   "outputs": [],
   "source": [
    "# Create the authentication object\n",
    "authenticate = tweepy.OAuthHandler(consumerKey, consumerSecret) \n",
    "    \n",
    "# Set the access token and access token secret\n",
    "authenticate.set_access_token(accessToken, accessTokenSecret) \n",
    "    \n",
    "# Creating the API object while passing in auth information\n",
    "api = tweepy.API(authenticate, wait_on_rate_limit = True)"
   ]
  },
  {
   "cell_type": "code",
   "execution_count": 11,
   "metadata": {
    "colab": {
     "base_uri": "https://localhost:8080/",
     "height": 275
    },
    "colab_type": "code",
    "id": "ms5iUU7ShNbm",
    "outputId": "da429536-ba21-4a55-e04d-3c8ce8ef8fde"
   },
   "outputs": [
    {
     "name": "stdout",
     "output_type": "stream",
     "text": [
      "Show the 5 recent tweets:\n",
      "\n",
      "1) RT @IndiaHistorypic: 1960s :: Dr. C.V.Raman Teaching Diffraction\n",
      "\n",
      "( Photo - @uwmlibraries ) https://t.co/fl4KsSkxcs\n",
      "\n",
      "2) RT @smitaprakash: No limit to the number of fake news tweets she makes. Photo from WhatsApp University is pedalled as news. News websites w…\n",
      "\n",
      "3) RT @AshokShrivasta6: ये पुलिसवाला है या कसाई। इसके खिलाफ कार्रवाई होनी ही चाहिए।\n",
      "\n",
      "4) RT @Ach_Balkrishna: T-1 वाह रे, #IMA के विद्वान #डॉक्टर और #वैज्ञानिकों ! \n",
      "आपको प्रमाण एवं अनुसंधान आधारित आयुर्वेदिक औषधियां एवं प्राचीन #…\n",
      "\n",
      "5) RT @yogrishiramdev: मैं इंडियन मेडिकल एसोसिएशन व फार्मा कंपनियों से विनम्रता के साथ सीधे 25 सवाल पूछता हूँ- https://t.co/ATVKlDc9tl\n",
      "\n"
     ]
    }
   ],
   "source": [
    "# Extract 100 tweets from the twitter user\n",
    "posts = api.user_timeline(screen_name=\"Dilsrivastava\", count = 100, lang =\"en\", tweet_mode=\"extended\")\n",
    "\n",
    "#  Print the last 5 tweets\n",
    "print(\"Show the 5 recent tweets:\\n\")\n",
    "i=1\n",
    "for tweet in posts[:5]:\n",
    "    print(str(i) +') '+ tweet.full_text + '\\n')\n",
    "    i= i+1"
   ]
  },
  {
   "cell_type": "code",
   "execution_count": 12,
   "metadata": {
    "colab": {
     "base_uri": "https://localhost:8080/",
     "height": 204
    },
    "colab_type": "code",
    "id": "r1FBTS1chVoe",
    "outputId": "5e6765dc-0415-4a05-b571-cd87e5dcfb23"
   },
   "outputs": [
    {
     "data": {
      "text/html": [
       "<div>\n",
       "<style scoped>\n",
       "    .dataframe tbody tr th:only-of-type {\n",
       "        vertical-align: middle;\n",
       "    }\n",
       "\n",
       "    .dataframe tbody tr th {\n",
       "        vertical-align: top;\n",
       "    }\n",
       "\n",
       "    .dataframe thead th {\n",
       "        text-align: right;\n",
       "    }\n",
       "</style>\n",
       "<table border=\"1\" class=\"dataframe\">\n",
       "  <thead>\n",
       "    <tr style=\"text-align: right;\">\n",
       "      <th></th>\n",
       "      <th>Tweets</th>\n",
       "    </tr>\n",
       "  </thead>\n",
       "  <tbody>\n",
       "    <tr>\n",
       "      <th>0</th>\n",
       "      <td>RT @IndiaHistorypic: 1960s :: Dr. C.V.Raman Te...</td>\n",
       "    </tr>\n",
       "    <tr>\n",
       "      <th>1</th>\n",
       "      <td>RT @smitaprakash: No limit to the number of fa...</td>\n",
       "    </tr>\n",
       "    <tr>\n",
       "      <th>2</th>\n",
       "      <td>RT @AshokShrivasta6: ये पुलिसवाला है या कसाई। ...</td>\n",
       "    </tr>\n",
       "    <tr>\n",
       "      <th>3</th>\n",
       "      <td>RT @Ach_Balkrishna: T-1 वाह रे, #IMA के विद्वा...</td>\n",
       "    </tr>\n",
       "    <tr>\n",
       "      <th>4</th>\n",
       "      <td>RT @yogrishiramdev: मैं इंडियन मेडिकल एसोसिएशन...</td>\n",
       "    </tr>\n",
       "  </tbody>\n",
       "</table>\n",
       "</div>"
      ],
      "text/plain": [
       "                                              Tweets\n",
       "0  RT @IndiaHistorypic: 1960s :: Dr. C.V.Raman Te...\n",
       "1  RT @smitaprakash: No limit to the number of fa...\n",
       "2  RT @AshokShrivasta6: ये पुलिसवाला है या कसाई। ...\n",
       "3  RT @Ach_Balkrishna: T-1 वाह रे, #IMA के विद्वा...\n",
       "4  RT @yogrishiramdev: मैं इंडियन मेडिकल एसोसिएशन..."
      ]
     },
     "execution_count": 12,
     "metadata": {},
     "output_type": "execute_result"
    }
   ],
   "source": [
    "# Create a dataframe with a column called Tweets\n",
    "df = pd.DataFrame([tweet.full_text for tweet in posts], columns=['Tweets'])\n",
    "# Show the first 5 rows of data\n",
    "df.head()"
   ]
  },
  {
   "cell_type": "code",
   "execution_count": 13,
   "metadata": {
    "colab": {
     "base_uri": "https://localhost:8080/",
     "height": 419
    },
    "colab_type": "code",
    "id": "4IjgopLwiUHm",
    "outputId": "08eb9d33-0f59-4f80-aeaf-e157a2b804a1"
   },
   "outputs": [
    {
     "data": {
      "text/html": [
       "<div>\n",
       "<style scoped>\n",
       "    .dataframe tbody tr th:only-of-type {\n",
       "        vertical-align: middle;\n",
       "    }\n",
       "\n",
       "    .dataframe tbody tr th {\n",
       "        vertical-align: top;\n",
       "    }\n",
       "\n",
       "    .dataframe thead th {\n",
       "        text-align: right;\n",
       "    }\n",
       "</style>\n",
       "<table border=\"1\" class=\"dataframe\">\n",
       "  <thead>\n",
       "    <tr style=\"text-align: right;\">\n",
       "      <th></th>\n",
       "      <th>Tweets</th>\n",
       "    </tr>\n",
       "  </thead>\n",
       "  <tbody>\n",
       "    <tr>\n",
       "      <th>0</th>\n",
       "      <td>: 1960s :: Dr. C.V.Raman Teaching Diffraction\\...</td>\n",
       "    </tr>\n",
       "    <tr>\n",
       "      <th>1</th>\n",
       "      <td>: No limit to the number of fake news tweets s...</td>\n",
       "    </tr>\n",
       "    <tr>\n",
       "      <th>2</th>\n",
       "      <td>6: ये पुलिसवाला है या कसाई। इसके खिलाफ कार्रवा...</td>\n",
       "    </tr>\n",
       "    <tr>\n",
       "      <th>3</th>\n",
       "      <td>_Balkrishna: T-1 वाह रे, IMA के विद्वान डॉक्टर...</td>\n",
       "    </tr>\n",
       "    <tr>\n",
       "      <th>4</th>\n",
       "      <td>: मैं इंडियन मेडिकल एसोसिएशन व फार्मा कंपनियों...</td>\n",
       "    </tr>\n",
       "    <tr>\n",
       "      <th>...</th>\n",
       "      <td>...</td>\n",
       "    </tr>\n",
       "    <tr>\n",
       "      <th>95</th>\n",
       "      <td>बहुत बहुत आभार सर🙏🙏</td>\n",
       "    </tr>\n",
       "    <tr>\n",
       "      <th>96</th>\n",
       "      <td>: मधुर मनोहर अतीव सुंदर\\nयह सर्व विद्या की राज...</td>\n",
       "    </tr>\n",
       "    <tr>\n",
       "      <th>97</th>\n",
       "      <td>: With new DRDO BHU COVID center going to be o...</td>\n",
       "    </tr>\n",
       "    <tr>\n",
       "      <th>98</th>\n",
       "      <td>: Bengal Violence is a blot on the country's d...</td>\n",
       "    </tr>\n",
       "    <tr>\n",
       "      <th>99</th>\n",
       "      <td>: Terrorist Govt of Bengal has sent Legal Noti...</td>\n",
       "    </tr>\n",
       "  </tbody>\n",
       "</table>\n",
       "<p>100 rows × 1 columns</p>\n",
       "</div>"
      ],
      "text/plain": [
       "                                               Tweets\n",
       "0   : 1960s :: Dr. C.V.Raman Teaching Diffraction\\...\n",
       "1   : No limit to the number of fake news tweets s...\n",
       "2   6: ये पुलिसवाला है या कसाई। इसके खिलाफ कार्रवा...\n",
       "3   _Balkrishna: T-1 वाह रे, IMA के विद्वान डॉक्टर...\n",
       "4   : मैं इंडियन मेडिकल एसोसिएशन व फार्मा कंपनियों...\n",
       "..                                                ...\n",
       "95                               बहुत बहुत आभार सर🙏🙏 \n",
       "96  : मधुर मनोहर अतीव सुंदर\\nयह सर्व विद्या की राज...\n",
       "97  : With new DRDO BHU COVID center going to be o...\n",
       "98  : Bengal Violence is a blot on the country's d...\n",
       "99  : Terrorist Govt of Bengal has sent Legal Noti...\n",
       "\n",
       "[100 rows x 1 columns]"
      ]
     },
     "execution_count": 13,
     "metadata": {},
     "output_type": "execute_result"
    }
   ],
   "source": [
    "# Create a function to clean the tweets\n",
    "def cleanTxt(text):\n",
    " text = re.sub('@[A-Za-z0–9]+', '', text) #Removing @mentions\n",
    " text = re.sub('#', '', text) # Removing '#' hash tag\n",
    " text = re.sub('RT[\\s]+', '', text) # Removing RT\n",
    " text = re.sub('https?:\\/\\/\\S+', '', text) # Removing hyperlink\n",
    " \n",
    " return text\n",
    "\n",
    "\n",
    "# Clean the tweets\n",
    "df['Tweets'] = df['Tweets'].apply(cleanTxt)\n",
    "\n",
    "# Show the cleaned tweets\n",
    "df"
   ]
  },
  {
   "cell_type": "code",
   "execution_count": 14,
   "metadata": {
    "colab": {
     "base_uri": "https://localhost:8080/",
     "height": 419
    },
    "colab_type": "code",
    "id": "l5qM8O2dkqP2",
    "outputId": "f911ae78-5936-414b-e7b6-a0ab653f74ab"
   },
   "outputs": [
    {
     "data": {
      "text/html": [
       "<div>\n",
       "<style scoped>\n",
       "    .dataframe tbody tr th:only-of-type {\n",
       "        vertical-align: middle;\n",
       "    }\n",
       "\n",
       "    .dataframe tbody tr th {\n",
       "        vertical-align: top;\n",
       "    }\n",
       "\n",
       "    .dataframe thead th {\n",
       "        text-align: right;\n",
       "    }\n",
       "</style>\n",
       "<table border=\"1\" class=\"dataframe\">\n",
       "  <thead>\n",
       "    <tr style=\"text-align: right;\">\n",
       "      <th></th>\n",
       "      <th>Tweets</th>\n",
       "      <th>Subjectivity</th>\n",
       "      <th>Polarity</th>\n",
       "    </tr>\n",
       "  </thead>\n",
       "  <tbody>\n",
       "    <tr>\n",
       "      <th>0</th>\n",
       "      <td>: 1960s :: Dr. C.V.Raman Teaching Diffraction\\...</td>\n",
       "      <td>0.000000</td>\n",
       "      <td>0.000000</td>\n",
       "    </tr>\n",
       "    <tr>\n",
       "      <th>1</th>\n",
       "      <td>: No limit to the number of fake news tweets s...</td>\n",
       "      <td>1.000000</td>\n",
       "      <td>-0.500000</td>\n",
       "    </tr>\n",
       "    <tr>\n",
       "      <th>2</th>\n",
       "      <td>6: ये पुलिसवाला है या कसाई। इसके खिलाफ कार्रवा...</td>\n",
       "      <td>0.000000</td>\n",
       "      <td>0.000000</td>\n",
       "    </tr>\n",
       "    <tr>\n",
       "      <th>3</th>\n",
       "      <td>_Balkrishna: T-1 वाह रे, IMA के विद्वान डॉक्टर...</td>\n",
       "      <td>0.000000</td>\n",
       "      <td>0.000000</td>\n",
       "    </tr>\n",
       "    <tr>\n",
       "      <th>4</th>\n",
       "      <td>: मैं इंडियन मेडिकल एसोसिएशन व फार्मा कंपनियों...</td>\n",
       "      <td>0.000000</td>\n",
       "      <td>0.000000</td>\n",
       "    </tr>\n",
       "    <tr>\n",
       "      <th>...</th>\n",
       "      <td>...</td>\n",
       "      <td>...</td>\n",
       "      <td>...</td>\n",
       "    </tr>\n",
       "    <tr>\n",
       "      <th>95</th>\n",
       "      <td>बहुत बहुत आभार सर🙏🙏</td>\n",
       "      <td>0.000000</td>\n",
       "      <td>0.000000</td>\n",
       "    </tr>\n",
       "    <tr>\n",
       "      <th>96</th>\n",
       "      <td>: मधुर मनोहर अतीव सुंदर\\nयह सर्व विद्या की राज...</td>\n",
       "      <td>0.000000</td>\n",
       "      <td>0.000000</td>\n",
       "    </tr>\n",
       "    <tr>\n",
       "      <th>97</th>\n",
       "      <td>: With new DRDO BHU COVID center going to be o...</td>\n",
       "      <td>0.410909</td>\n",
       "      <td>0.167273</td>\n",
       "    </tr>\n",
       "    <tr>\n",
       "      <th>98</th>\n",
       "      <td>: Bengal Violence is a blot on the country's d...</td>\n",
       "      <td>0.550000</td>\n",
       "      <td>0.250000</td>\n",
       "    </tr>\n",
       "    <tr>\n",
       "      <th>99</th>\n",
       "      <td>: Terrorist Govt of Bengal has sent Legal Noti...</td>\n",
       "      <td>0.450000</td>\n",
       "      <td>-0.100000</td>\n",
       "    </tr>\n",
       "  </tbody>\n",
       "</table>\n",
       "<p>100 rows × 3 columns</p>\n",
       "</div>"
      ],
      "text/plain": [
       "                                               Tweets  Subjectivity  Polarity\n",
       "0   : 1960s :: Dr. C.V.Raman Teaching Diffraction\\...      0.000000  0.000000\n",
       "1   : No limit to the number of fake news tweets s...      1.000000 -0.500000\n",
       "2   6: ये पुलिसवाला है या कसाई। इसके खिलाफ कार्रवा...      0.000000  0.000000\n",
       "3   _Balkrishna: T-1 वाह रे, IMA के विद्वान डॉक्टर...      0.000000  0.000000\n",
       "4   : मैं इंडियन मेडिकल एसोसिएशन व फार्मा कंपनियों...      0.000000  0.000000\n",
       "..                                                ...           ...       ...\n",
       "95                               बहुत बहुत आभार सर🙏🙏       0.000000  0.000000\n",
       "96  : मधुर मनोहर अतीव सुंदर\\nयह सर्व विद्या की राज...      0.000000  0.000000\n",
       "97  : With new DRDO BHU COVID center going to be o...      0.410909  0.167273\n",
       "98  : Bengal Violence is a blot on the country's d...      0.550000  0.250000\n",
       "99  : Terrorist Govt of Bengal has sent Legal Noti...      0.450000 -0.100000\n",
       "\n",
       "[100 rows x 3 columns]"
      ]
     },
     "execution_count": 14,
     "metadata": {},
     "output_type": "execute_result"
    }
   ],
   "source": [
    "# Create a function to get the subjectivity\n",
    "def getSubjectivity(text):\n",
    "   return TextBlob(text).sentiment.subjectivity\n",
    "\n",
    "# Create a function to get the polarity\n",
    "def getPolarity(text):\n",
    "   return  TextBlob(text).sentiment.polarity\n",
    "\n",
    "\n",
    "# Create two new columns 'Subjectivity' & 'Polarity'\n",
    "df['Subjectivity'] = df['Tweets'].apply(getSubjectivity)\n",
    "df['Polarity'] = df['Tweets'].apply(getPolarity)\n",
    "\n",
    "# Show the new dataframe with columns 'Subjectivity' & 'Polarity'\n",
    "df"
   ]
  },
  {
   "cell_type": "code",
   "execution_count": 15,
   "metadata": {
    "colab": {
     "base_uri": "https://localhost:8080/",
     "height": 256
    },
    "colab_type": "code",
    "id": "jRBsKGDLldj1",
    "outputId": "c3c95d1a-748e-41cf-fbc9-3fde71719b7f"
   },
   "outputs": [
    {
     "data": {
      "image/png": "[encoded data removed]",
      "text/plain": [
       "<Figure size 432x288 with 1 Axes>"
      ]
     },
     "metadata": {},
     "output_type": "display_data"
    }
   ],
   "source": [
    "# word cloud visualization\n",
    "allWords = ' '.join([twts for twts in df['Tweets']])\n",
    "wordCloud = WordCloud(width=500, height=300, random_state=21, max_font_size=110).generate(allWords)\n",
    "\n",
    "\n",
    "plt.imshow(wordCloud, interpolation=\"bilinear\")\n",
    "plt.axis('off')\n",
    "plt.show()"
   ]
  },
  {
   "cell_type": "code",
   "execution_count": 16,
   "metadata": {
    "colab": {
     "base_uri": "https://localhost:8080/",
     "height": 419
    },
    "colab_type": "code",
    "id": "6_O7oUrUlkPX",
    "outputId": "80289240-5eca-447c-f3c2-5d1073cb4867"
   },
   "outputs": [
    {
     "data": {
      "text/html": [
       "<div>\n",
       "<style scoped>\n",
       "    .dataframe tbody tr th:only-of-type {\n",
       "        vertical-align: middle;\n",
       "    }\n",
       "\n",
       "    .dataframe tbody tr th {\n",
       "        vertical-align: top;\n",
       "    }\n",
       "\n",
       "    .dataframe thead th {\n",
       "        text-align: right;\n",
       "    }\n",
       "</style>\n",
       "<table border=\"1\" class=\"dataframe\">\n",
       "  <thead>\n",
       "    <tr style=\"text-align: right;\">\n",
       "      <th></th>\n",
       "      <th>Tweets</th>\n",
       "      <th>Subjectivity</th>\n",
       "      <th>Polarity</th>\n",
       "      <th>Analysis</th>\n",
       "    </tr>\n",
       "  </thead>\n",
       "  <tbody>\n",
       "    <tr>\n",
       "      <th>0</th>\n",
       "      <td>: 1960s :: Dr. C.V.Raman Teaching Diffraction\\...</td>\n",
       "      <td>0.000000</td>\n",
       "      <td>0.000000</td>\n",
       "      <td>Neutral</td>\n",
       "    </tr>\n",
       "    <tr>\n",
       "      <th>1</th>\n",
       "      <td>: No limit to the number of fake news tweets s...</td>\n",
       "      <td>1.000000</td>\n",
       "      <td>-0.500000</td>\n",
       "      <td>Negative</td>\n",
       "    </tr>\n",
       "    <tr>\n",
       "      <th>2</th>\n",
       "      <td>6: ये पुलिसवाला है या कसाई। इसके खिलाफ कार्रवा...</td>\n",
       "      <td>0.000000</td>\n",
       "      <td>0.000000</td>\n",
       "      <td>Neutral</td>\n",
       "    </tr>\n",
       "    <tr>\n",
       "      <th>3</th>\n",
       "      <td>_Balkrishna: T-1 वाह रे, IMA के विद्वान डॉक्टर...</td>\n",
       "      <td>0.000000</td>\n",
       "      <td>0.000000</td>\n",
       "      <td>Neutral</td>\n",
       "    </tr>\n",
       "    <tr>\n",
       "      <th>4</th>\n",
       "      <td>: मैं इंडियन मेडिकल एसोसिएशन व फार्मा कंपनियों...</td>\n",
       "      <td>0.000000</td>\n",
       "      <td>0.000000</td>\n",
       "      <td>Neutral</td>\n",
       "    </tr>\n",
       "    <tr>\n",
       "      <th>...</th>\n",
       "      <td>...</td>\n",
       "      <td>...</td>\n",
       "      <td>...</td>\n",
       "      <td>...</td>\n",
       "    </tr>\n",
       "    <tr>\n",
       "      <th>95</th>\n",
       "      <td>बहुत बहुत आभार सर🙏🙏</td>\n",
       "      <td>0.000000</td>\n",
       "      <td>0.000000</td>\n",
       "      <td>Neutral</td>\n",
       "    </tr>\n",
       "    <tr>\n",
       "      <th>96</th>\n",
       "      <td>: मधुर मनोहर अतीव सुंदर\\nयह सर्व विद्या की राज...</td>\n",
       "      <td>0.000000</td>\n",
       "      <td>0.000000</td>\n",
       "      <td>Neutral</td>\n",
       "    </tr>\n",
       "    <tr>\n",
       "      <th>97</th>\n",
       "      <td>: With new DRDO BHU COVID center going to be o...</td>\n",
       "      <td>0.410909</td>\n",
       "      <td>0.167273</td>\n",
       "      <td>Positive</td>\n",
       "    </tr>\n",
       "    <tr>\n",
       "      <th>98</th>\n",
       "      <td>: Bengal Violence is a blot on the country's d...</td>\n",
       "      <td>0.550000</td>\n",
       "      <td>0.250000</td>\n",
       "      <td>Positive</td>\n",
       "    </tr>\n",
       "    <tr>\n",
       "      <th>99</th>\n",
       "      <td>: Terrorist Govt of Bengal has sent Legal Noti...</td>\n",
       "      <td>0.450000</td>\n",
       "      <td>-0.100000</td>\n",
       "      <td>Negative</td>\n",
       "    </tr>\n",
       "  </tbody>\n",
       "</table>\n",
       "<p>100 rows × 4 columns</p>\n",
       "</div>"
      ],
      "text/plain": [
       "                                               Tweets  Subjectivity  Polarity  \\\n",
       "0   : 1960s :: Dr. C.V.Raman Teaching Diffraction\\...      0.000000  0.000000   \n",
       "1   : No limit to the number of fake news tweets s...      1.000000 -0.500000   \n",
       "2   6: ये पुलिसवाला है या कसाई। इसके खिलाफ कार्रवा...      0.000000  0.000000   \n",
       "3   _Balkrishna: T-1 वाह रे, IMA के विद्वान डॉक्टर...      0.000000  0.000000   \n",
       "4   : मैं इंडियन मेडिकल एसोसिएशन व फार्मा कंपनियों...      0.000000  0.000000   \n",
       "..                                                ...           ...       ...   \n",
       "95                               बहुत बहुत आभार सर🙏🙏       0.000000  0.000000   \n",
       "96  : मधुर मनोहर अतीव सुंदर\\nयह सर्व विद्या की राज...      0.000000  0.000000   \n",
       "97  : With new DRDO BHU COVID center going to be o...      0.410909  0.167273   \n",
       "98  : Bengal Violence is a blot on the country's d...      0.550000  0.250000   \n",
       "99  : Terrorist Govt of Bengal has sent Legal Noti...      0.450000 -0.100000   \n",
       "\n",
       "    Analysis  \n",
       "0    Neutral  \n",
       "1   Negative  \n",
       "2    Neutral  \n",
       "3    Neutral  \n",
       "4    Neutral  \n",
       "..       ...  \n",
       "95   Neutral  \n",
       "96   Neutral  \n",
       "97  Positive  \n",
       "98  Positive  \n",
       "99  Negative  \n",
       "\n",
       "[100 rows x 4 columns]"
      ]
     },
     "execution_count": 16,
     "metadata": {},
     "output_type": "execute_result"
    }
   ],
   "source": [
    "# Create a function to compute negative (-1), neutral (0) and positive (+1) analysis\n",
    "def getAnalysis(score):\n",
    "  if score < 0:\n",
    "    return 'Negative'\n",
    "  elif score == 0:\n",
    "    return 'Neutral'\n",
    "  else:\n",
    "    return 'Positive'\n",
    "    \n",
    "df['Analysis'] = df['Polarity'].apply(getAnalysis)\n",
    "# Show the dataframe\n",
    "df"
   ]
  },
  {
   "cell_type": "code",
   "execution_count": 17,
   "metadata": {
    "colab": {
     "base_uri": "https://localhost:8080/",
     "height": 374
    },
    "colab_type": "code",
    "id": "w-x6HPyml6h_",
    "outputId": "7b7a8ab2-ba28-4321-fe76-9892b103b9d0"
   },
   "outputs": [
    {
     "data": {
      "image/png": "[encoded data removed]",
      "text/plain": [
       "<Figure size 432x288 with 1 Axes>"
      ]
     },
     "metadata": {},
     "output_type": "display_data"
    }
   ],
   "source": [
    "# Plotting and visualizing the counts\n",
    "plt.title('Sentiment Analysis')\n",
    "plt.xlabel('Sentiment')\n",
    "plt.ylabel('Counts')\n",
    "df['Analysis'].value_counts().plot(kind = 'bar')\n",
    "plt.show()"
   ]
  },
  {
   "cell_type": "code",
   "execution_count": null,
   "metadata": {
    "colab": {},
    "colab_type": "code",
    "id": "gUkLGmihnXmZ"
   },
   "outputs": [],
   "source": []
  },
  {
   "cell_type": "code",
   "execution_count": null,
   "metadata": {},
   "outputs": [],
   "source": []
  },
  {
   "cell_type": "code",
   "execution_count": null,
   "metadata": {},
   "outputs": [],
   "source": []
  }
 ],
 "metadata": {
  "colab": {
   "name": "Tweets Analyzer.ipynb",
   "provenance": []
  },
  "kernelspec": {
   "display_name": "Python 3",
   "language": "python",
   "name": "python3"
  },
  "language_info": {
   "codemirror_mode": {
    "name": "ipython",
    "version": 3
   },
   "file_extension": ".py",
   "mimetype": "text/x-python",
   "name": "python",
   "nbconvert_exporter": "python",
   "pygments_lexer": "ipython3",
   "version": "3.7.6"
  }
 },
 "nbformat": 4,
 "nbformat_minor": 1
}
